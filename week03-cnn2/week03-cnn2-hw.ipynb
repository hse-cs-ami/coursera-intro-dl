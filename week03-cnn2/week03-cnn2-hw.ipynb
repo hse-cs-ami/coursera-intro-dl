{
 "cells": [
  {
   "cell_type": "markdown",
   "metadata": {
    "pycharm": {
     "name": "#%% md\n"
    }
   },
   "source": [
    "# Finetuning модели на новых данных\n",
    "\n",
    "В этом задании вам предстоит обучить предобученную модель для классификации изображений на новых данных."
   ]
  },
  {
   "cell_type": "markdown",
   "metadata": {},
   "source": [
    "## Настройка google colab\n",
    "\n",
    "Для корректной работы ноутбука и отправки заданий в тестирующую систему запустите следующие две ячейки (до начала работы)."
   ]
  },
  {
   "cell_type": "code",
   "execution_count": null,
   "metadata": {
    "pycharm": {
     "name": "#%%\n"
    }
   },
   "outputs": [],
   "source": [
    "%%bash\n",
    "\n",
    "rm colab_setup\n",
    "\n",
    "wget -q https://raw.githubusercontent.com/hse-cs-ami/coursera-intro-dl/main/utils/colab_setup.py -O colab_setup.py"
   ]
  },
  {
   "cell_type": "code",
   "execution_count": null,
   "metadata": {
    "pycharm": {
     "name": "#%%\n"
    }
   },
   "outputs": [],
   "source": [
    "import colab_setup\n",
    "\n",
    "colab_setup.Week03CNN2().setup()"
   ]
  },
  {
   "cell_type": "code",
   "execution_count": null,
   "metadata": {},
   "outputs": [],
   "source": [
    "from testing import TestWeek03\n",
    "\n",
    "\n",
    "tester = TestWeek03()\n",
    "\n",
    "tester.set_email('### YOUR EMAIL ###')\n",
    "tester.set_token('### YOUR TOKEN ###')"
   ]
  },
  {
   "cell_type": "markdown",
   "metadata": {
    "pycharm": {
     "name": "#%% md\n"
    }
   },
   "source": [
    "## Необходимые импорты"
   ]
  },
  {
   "cell_type": "code",
   "execution_count": null,
   "metadata": {
    "pycharm": {
     "name": "#%%\n"
    }
   },
   "outputs": [],
   "source": [
    "import os\n",
    "from collections import defaultdict\n",
    "from glob import glob\n",
    "from time import perf_counter\n",
    "from warnings import filterwarnings\n",
    "\n",
    "import matplotlib.pyplot as plt\n",
    "import seaborn as sns\n",
    "import torch\n",
    "import torch.nn as nn\n",
    "import torchvision.transforms as t\n",
    "\n",
    "from IPython.display import clear_output\n",
    "from PIL import Image\n",
    "from torch.optim import Adam\n",
    "from torch.utils.data import DataLoader, Dataset\n",
    "from torchvision.models import resnet18\n",
    "from tqdm import tqdm\n",
    "\n",
    "filterwarnings('ignore')\n",
    "\n",
    "sns.set(style='darkgrid')"
   ]
  },
  {
   "cell_type": "markdown",
   "metadata": {
    "pycharm": {
     "name": "#%% md\n"
    }
   },
   "source": [
    "## Задание 1. Датасет\n",
    "\n",
    "Заполните пропуски в коде, чтобы получился рабочий класс для датасета."
   ]
  },
  {
   "cell_type": "code",
   "execution_count": null,
   "metadata": {
    "pycharm": {
     "name": "#%%\n"
    }
   },
   "outputs": [],
   "source": [
    "class Birbs(Dataset):\n",
    "\n",
    "    def __init__(self, base_path: str = './birbs', train: bool = True, transform = None):\n",
    "        self.base_path = # объедините base_path и 'train' если train иначе 'test'\n",
    "\n",
    "        self.filenames = sorted(glob(os.path.join(self.base_path, '*/*')))\n",
    "        self.labels = # сделайте тензор с типом torch.LongTensor, используйте функцию get_label\n",
    "\n",
    "        self.transform = transform\n",
    "\n",
    "    def get_label(self, filename):\n",
    "        return int(filename.split('/')[-2]) - 1\n",
    "\n",
    "    def __getitem__(self, idx: int):\n",
    "        filename = # достаньте filename из filenames\n",
    "\n",
    "        image = Image.open(filename)\n",
    "\n",
    "        if self.transform is not None:\n",
    "            image = # примените transform для преобразования image\n",
    "\n",
    "        return image, self.labels[idx]\n",
    "\n",
    "    def __len__(self):\n",
    "        return len(self.filenames)"
   ]
  },
  {
   "cell_type": "code",
   "execution_count": null,
   "metadata": {
    "pycharm": {
     "name": "#%%\n"
    }
   },
   "outputs": [],
   "source": [
    "# тестируем как вы написали класс датасета\n",
    "tester.set_email('### YOUR EMAIL ###')\n",
    "tester.set_token('### YOUR TOKEN ###')\n",
    "\n",
    "tester.test01(Birbs)"
   ]
  },
  {
   "cell_type": "markdown",
   "metadata": {
    "pycharm": {
     "name": "#%% md\n"
    }
   },
   "source": [
    "## Задание 2. Загрузка модели и подготовка к обучению на новых данных\n",
    "\n",
    "Заполните пропуски в коде, чтобы получился рабочий класс модели."
   ]
  },
  {
   "cell_type": "markdown",
   "metadata": {},
   "source": [
    "Запустите ячейку ниже и посмотрите на устройство модели [ResNet](https://arxiv.org/abs/1512.03385)."
   ]
  },
  {
   "cell_type": "code",
   "execution_count": null,
   "metadata": {
    "pycharm": {
     "name": "#%%\n"
    }
   },
   "outputs": [],
   "source": [
    "resnet = resnet18(pretrained=True)\n",
    "\n",
    "print(resnet)"
   ]
  },
  {
   "cell_type": "markdown",
   "metadata": {
    "pycharm": {
     "name": "#%% md\n"
    }
   },
   "source": [
    "В своей реализации мы заменим последний полносвязный слой (`fc`) на новый полносвязный слой (который будет соответствовать нашей задаче - иметь нужное количество классов 200)."
   ]
  },
  {
   "cell_type": "code",
   "execution_count": null,
   "metadata": {
    "pycharm": {
     "name": "#%%\n"
    }
   },
   "outputs": [],
   "source": [
    "class Model(nn.Module):\n",
    "    def __init__(self):\n",
    "        super().__init__()\n",
    "\n",
    "        self.model = resnet18(pretrained=True)\n",
    "\n",
    "        num_in_features = # получите количество входных признаков слоя fc модели resnet (используйте in_features)\n",
    "        num_classes = 200\n",
    "\n",
    "        self.model.fc = # создайте слой Linear с вышезаданными параметрами\n",
    "\n",
    "    def forward(self, x):\n",
    "        return # сделайте проход вперед с помощью model\n",
    "\n",
    "    @property\n",
    "    def input_size(self):\n",
    "        return 224\n",
    "\n",
    "model = Model()"
   ]
  },
  {
   "cell_type": "code",
   "execution_count": null,
   "metadata": {
    "pycharm": {
     "name": "#%%\n"
    }
   },
   "outputs": [],
   "source": [
    "# тестируем как вы написали класс модели\n",
    "tester.set_email('### YOUR EMAIL ###')\n",
    "tester.set_token('### YOUR TOKEN ###')\n",
    "\n",
    "tester.test02(model)"
   ]
  },
  {
   "cell_type": "markdown",
   "metadata": {
    "pycharm": {
     "name": "#%% md\n"
    }
   },
   "source": [
    "## Задание 3. Обучение на выбранном датасете\n",
    "\n",
    "Заполните пропуски в коде, чтобы получился рабочий класс оболочки."
   ]
  },
  {
   "cell_type": "code",
   "execution_count": null,
   "metadata": {
    "pycharm": {
     "name": "#%%\n"
    }
   },
   "outputs": [],
   "source": [
    "class Wrapper:\n",
    "\n",
    "    def __init__(self, model: Model, train_transform: t.Compose = None):\n",
    "\n",
    "        # задаём аугментации для обучающей и тестовой выборок\n",
    "        if train_transform is None:\n",
    "            train_transform: t.Compose = t.Compose(\n",
    "                [\n",
    "                    t.Resize(model.input_size),\n",
    "                    t.ToTensor(),\n",
    "                    t.Normalize([0.485, 0.456, 0.406], [0.229, 0.224, 0.225])\n",
    "                ]\n",
    "            )\n",
    "\n",
    "        test_transform: t.Compose = t.Compose(\n",
    "            [\n",
    "                t.Resize(model.input_size),\n",
    "                t.ToTensor(),\n",
    "                t.Normalize([0.485, 0.456, 0.406], [0.229, 0.224, 0.225])\n",
    "            ]\n",
    "        )\n",
    "\n",
    "        # создаем датасеты\n",
    "        train_dataset = # создайте обучающий датасет\n",
    "        test_dataset = # создайте тестовый датасет\n",
    "\n",
    "        batch_size = 32\n",
    "\n",
    "        # создаем даталоадеры\n",
    "        self.train_loader: DataLoader = DataLoader(train_dataset, shuffle=True, batch_size=batch_size)\n",
    "        self.test_loader: DataLoader = DataLoader(test_dataset, shuffle=False, batch_size=batch_size)\n",
    "\n",
    "        self.device: torch.device = torch.device('cuda:0' if torch.cuda.is_available() else 'cpu')\n",
    "\n",
    "        self.model: Model = model.to(self.device)\n",
    "\n",
    "        # создаем функцию потерь и оптимизатор\n",
    "        self.loss_function = nn.CrossEntropyLoss()\n",
    "        self.optimizer = Adam(self.model.parameters(), lr=1e-3)\n",
    "\n",
    "        self.history = defaultdict(list)\n",
    "\n",
    "    def run(self, epochs: int = 10):\n",
    "        total_time = 0\n",
    "\n",
    "        for epoch in range(epochs):\n",
    "            # строим графики\n",
    "            self.plot_stats(epochs)\n",
    "\n",
    "            # обучаемся\n",
    "            start = perf_counter()\n",
    "            self.train_epoch()\n",
    "            total_time += perf_counter() - start\n",
    "\n",
    "            # оцениваем качество\n",
    "            self.evaluate_subset('train')\n",
    "            self.evaluate_subset('test')\n",
    "\n",
    "        # строим финальные графики и печатаем сколько заняло обучение\n",
    "        self.plot_stats(epochs)\n",
    "        print(f'Время на обучение: {total_time:.2f} секунд')\n",
    "\n",
    "    def train_epoch(self):\n",
    "        self.model.train()\n",
    "\n",
    "        for images, labels in tqdm(self.train_loader, desc='Обучение'):\n",
    "            images, labels = images.to(self.device), labels.to(self.device)\n",
    "\n",
    "            # обнулите градиент у оптимизатора\n",
    "\n",
    "            # получите выход модели на батче images\n",
    "\n",
    "            # посчитайте ошибку между выходом модели и labels, запишите в loss\n",
    "\n",
    "            loss.backward()\n",
    "\n",
    "            self.optimizer.step()\n",
    "\n",
    "    @torch.inference_mode()\n",
    "    def evaluate_subset(self, subset: str = 'train'):\n",
    "        self.model.eval()\n",
    "\n",
    "        loss = 0.0\n",
    "        correct = 0\n",
    "\n",
    "        loader: DataLoader = self.train_loader if subset == 'train' else self.test_loader\n",
    "\n",
    "        for images, labels in tqdm(loader, desc=f'Оценка качества на {subset}'):\n",
    "            images, labels = images.to(self.device), labels.to(self.device)\n",
    "\n",
    "            # получите выход модели на батче images, запишите в outputs\n",
    "\n",
    "            # посчитайте ошибку между выходом модели и labels, запишите в loss, используйте .item() для получения числа\n",
    "\n",
    "            _, prediction = torch.max(outputs, 1)\n",
    "            correct += prediction.eq(labels.data.view_as(prediction)).cpu().sum()\n",
    "\n",
    "        self.history[f'{subset}_loss'].append(loss / len(loader))\n",
    "        self.history[f'{subset}_accuracy'].append(100. * correct / len(loader.dataset))\n",
    "\n",
    "    def plot_stats(self, epochs: int):\n",
    "        clear_output(wait=True)\n",
    "\n",
    "        fig, (ax1, ax2) = plt.subplots(2, figsize=(10, 10), constrained_layout=True)\n",
    "\n",
    "        ax1.set_title('Зависимость ошибки модели от номера эпохи')\n",
    "        ax1.plot(\n",
    "            range(1, len(self.history['train_loss']) + 1),\n",
    "            self.history['train_loss'],\n",
    "            label='Обучающая', marker='^'\n",
    "        )\n",
    "        ax1.plot(\n",
    "            range(1, len(self.history['test_loss']) + 1),\n",
    "            self.history['test_loss'],\n",
    "            label='Тестовая', marker='^'\n",
    "        )\n",
    "\n",
    "        ax1.set_xlim([0.5, epochs + 0.5])\n",
    "\n",
    "        ax1.set_xlabel('Эпоха')\n",
    "        ax1.set_ylabel('Ошибка')\n",
    "\n",
    "        ax1.legend()\n",
    "\n",
    "        ax2.set_title('Зависимость доли правильных ответов модели от номера эпохи')\n",
    "        ax2.plot(\n",
    "            range(1, len(self.history['train_accuracy']) + 1),\n",
    "            self.history['train_accuracy'],\n",
    "            label='Обучающая', marker='^'\n",
    "        )\n",
    "        ax2.plot(\n",
    "            range(1, len(self.history['test_accuracy']) + 1),\n",
    "            self.history['test_accuracy'],\n",
    "            label='Тестовая', marker='^'\n",
    "        )\n",
    "\n",
    "        ax2.set_xlim([0.5, epochs + 0.5])\n",
    "\n",
    "        ax2.set_xlabel('Эпоха')\n",
    "        ax2.set_ylabel('Доля правильных ответов')\n",
    "\n",
    "        ax2.legend()\n",
    "\n",
    "        plt.show()"
   ]
  },
  {
   "cell_type": "markdown",
   "metadata": {
    "pycharm": {
     "name": "#%% md\n"
    }
   },
   "source": [
    "Попробуйте использовать какие-нибудь аугментации из списка:\n",
    "\n",
    " - [RandomHorizontalFlip](https://pytorch.org/vision/stable/transforms.html#torchvision.transforms.RandomHorizontalFlip)\n",
    " - [RandomAffine](https://pytorch.org/vision/stable/transforms.html#torchvision.transforms.RandomAffine)\n",
    " - [ColorJitter](https://pytorch.org/vision/stable/transforms.html#torchvision.transforms.ColorJitter)\n",
    " - [RandomGrayscale](https://pytorch.org/vision/stable/transforms.html#torchvision.transforms.RandomGrayscale)\n",
    " - [RandomCrop](https://pytorch.org/vision/stable/transforms.html#torchvision.transforms.RandomCrop)\n",
    "\n",
    "Или используйте любую другую аугментацию по вашему вкусу."
   ]
  },
  {
   "cell_type": "code",
   "execution_count": null,
   "metadata": {
    "pycharm": {
     "name": "#%%\n"
    }
   },
   "outputs": [],
   "source": [
    "custom_transform = t.Compose(\n",
    "    [\n",
    "        # добавьте сюда аугментации из списка выше\n",
    "        t.Resize(model.input_size),\n",
    "        t.ToTensor(),\n",
    "        t.Normalize((0.5, 0.5, 0.5), (0.5, 0.5, 0.5))\n",
    "    ]\n",
    ")"
   ]
  },
  {
   "cell_type": "code",
   "execution_count": null,
   "metadata": {
    "pycharm": {
     "name": "#%%\n"
    }
   },
   "outputs": [],
   "source": [
    "# создайте оболочку\n",
    "wrapper = Wrapper(model=model, train_transform=custom_transform)"
   ]
  },
  {
   "cell_type": "markdown",
   "metadata": {
    "pycharm": {
     "name": "#%% md\n"
    }
   },
   "source": [
    "Ваша цель добиться качества NN% на тестовой выборке."
   ]
  },
  {
   "cell_type": "code",
   "execution_count": null,
   "metadata": {
    "pycharm": {
     "name": "#%%\n"
    }
   },
   "outputs": [],
   "source": [
    "# запустите обучение\n",
    "wrapper.run()"
   ]
  },
  {
   "cell_type": "code",
   "execution_count": null,
   "metadata": {
    "pycharm": {
     "name": "#%%\n"
    }
   },
   "outputs": [],
   "source": [
    "# запустите тестирование обученной модели\n",
    "tester.set_email('### YOUR EMAIL ###')\n",
    "tester.set_token('### YOUR TOKEN ###')\n",
    "\n",
    "tester.test03(wrapper)"
   ]
  }
 ],
 "metadata": {
  "kernelspec": {
   "display_name": "Python 3 (ipykernel)",
   "language": "python",
   "name": "python3"
  },
  "language_info": {
   "codemirror_mode": {
    "name": "ipython",
    "version": 3
   },
   "file_extension": ".py",
   "mimetype": "text/x-python",
   "name": "python",
   "nbconvert_exporter": "python",
   "pygments_lexer": "ipython3",
   "version": "3.7.11"
  }
 },
 "nbformat": 4,
 "nbformat_minor": 1
}
