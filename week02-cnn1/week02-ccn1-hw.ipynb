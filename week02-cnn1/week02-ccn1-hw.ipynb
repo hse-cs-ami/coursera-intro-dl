{
 "cells": [
  {
   "cell_type": "markdown",
   "metadata": {},
   "source": [
    "# Классификация изображений\n",
    "\n",
    "В этом задании вам предстоит обучать несколько разных моделей для классификации изображений."
   ]
  },
  {
   "cell_type": "markdown",
   "metadata": {},
   "source": [
    "## Настройка google colab\n",
    "\n",
    "Для корректной работы ноутбука и отправки заданий в тестирующую систему запустите следующие две ячейки (до начала работы)."
   ]
  },
  {
   "cell_type": "code",
   "execution_count": null,
   "metadata": {
    "pycharm": {
     "name": "#%%\n"
    }
   },
   "outputs": [],
   "source": [
    "%%bash\n",
    "\n",
    "shred -u setup_colab.py\n",
    "\n",
    "wget -q https://raw.githubusercontent.com/hse-cs-ami/coursera-intro-dl/main/utils/colab_setup.py -O colab_setup.py"
   ]
  },
  {
   "cell_type": "code",
   "execution_count": null,
   "metadata": {
    "pycharm": {
     "name": "#%%\n"
    }
   },
   "outputs": [],
   "source": [
    "import colab_setup\n",
    "\n",
    "\n",
    "colab_setup.Week02CNN1().setup()"
   ]
  },
  {
   "cell_type": "markdown",
   "metadata": {},
   "source": [
    "## Необходимые импорты"
   ]
  },
  {
   "cell_type": "code",
   "execution_count": null,
   "metadata": {
    "pycharm": {
     "name": "#%%\n"
    }
   },
   "outputs": [],
   "source": [
    "from collections import defaultdict\n",
    "from time import perf_counter\n",
    "from typing import Type\n",
    "from warnings import filterwarnings\n",
    "\n",
    "import matplotlib.pyplot as plt\n",
    "import seaborn as sns\n",
    "import torch\n",
    "import torch.nn as nn\n",
    "import torchvision.transforms as t\n",
    "\n",
    "from IPython.display import clear_output\n",
    "from testing import TestWeek02\n",
    "from torch.optim import Adam\n",
    "from torch.utils.data import DataLoader\n",
    "from torchvision.datasets import CIFAR10\n",
    "from tqdm import tqdm\n",
    "\n",
    "filterwarnings('ignore')\n",
    "\n",
    "sns.set(style='darkgrid')"
   ]
  },
  {
   "cell_type": "markdown",
   "metadata": {},
   "source": [
    "## BaseModel\n",
    "\n",
    "Базовый класс модели, от которого мы дальше будем наследовать все классы моделей."
   ]
  },
  {
   "cell_type": "code",
   "execution_count": null,
   "metadata": {
    "pycharm": {
     "name": "#%%\n"
    }
   },
   "outputs": [],
   "source": [
    "class BaseModel(nn.Module):\n",
    "\n",
    "    def __init__(self, *args, **kwargs):\n",
    "        super().__init__()\n",
    "\n",
    "    def forward(self, x):\n",
    "        raise NotImplementedError"
   ]
  },
  {
   "cell_type": "markdown",
   "metadata": {},
   "source": [
    "## Wrapper\n",
    "\n",
    "Класс-обёртка, который будет принимать нашу модель и обучать её на наборе данных CIFAR10. В процессе обучения будем строить графики и считать качество на обучающей и тестовой выборках."
   ]
  },
  {
   "cell_type": "code",
   "execution_count": null,
   "metadata": {
    "pycharm": {
     "name": "#%%\n"
    }
   },
   "outputs": [],
   "source": [
    "class Wrapper:\n",
    "\n",
    "    def __init__(self, model_class: Type[BaseModel], train_transform: t.Compose = None, *model_args,\n",
    "                 **model_kwargs) -> None:\n",
    "\n",
    "        # задаём аугментации для обучающей и тестовой выборок\n",
    "        if train_transform is None:\n",
    "            train_transform: t.Compose = t.Compose(\n",
    "                [\n",
    "                    t.ToTensor(),\n",
    "                    t.Normalize((0.5, 0.5, 0.5), (0.5, 0.5, 0.5))\n",
    "                ]\n",
    "            )\n",
    "\n",
    "        test_transform: t.Compose = t.Compose(\n",
    "            [\n",
    "                t.ToTensor(),\n",
    "                t.Normalize((0.5, 0.5, 0.5), (0.5, 0.5, 0.5))\n",
    "            ]\n",
    "        )\n",
    "\n",
    "        # создаем датасеты\n",
    "        train_dataset = CIFAR10(root='./data', train=True, download=True, transform=train_transform)\n",
    "        test_dataset = CIFAR10(root='./data', train=False, download=True, transform=test_transform)\n",
    "\n",
    "        batch_size = 64\n",
    "\n",
    "        # создаем даталоадеры\n",
    "        self.train_loader: DataLoader = DataLoader(train_dataset, shuffle=True, batch_size=batch_size)\n",
    "        self.test_loader: DataLoader = DataLoader(test_dataset, shuffle=False, batch_size=batch_size)\n",
    "\n",
    "        self.device: torch.device = torch.device('cuda:0' if torch.cuda.is_available() else 'cpu')\n",
    "\n",
    "        self.model: nn.Module = model_class(*model_args, **model_kwargs).to(self.device)\n",
    "\n",
    "        # создаем функцию потерь и оптимизатор\n",
    "        self.loss_function = nn.CrossEntropyLoss()\n",
    "        self.optimizer = Adam(self.model.parameters(), lr=1e-3)\n",
    "\n",
    "        self.history = defaultdict(list)\n",
    "\n",
    "    def run(self, epochs: int = 10):\n",
    "        total_time = 0\n",
    "\n",
    "        for epoch in range(epochs):\n",
    "            # строим графики\n",
    "            self.plot_stats(epochs)\n",
    "\n",
    "            # обучаемся\n",
    "            start = perf_counter()\n",
    "            self.train_epoch()\n",
    "            total_time += perf_counter() - start\n",
    "\n",
    "            # оцениваем качество\n",
    "            self.evaluate_subset('train')\n",
    "            self.evaluate_subset('test')\n",
    "\n",
    "        # строим финальные графики и печатаем сколько заняло обучение\n",
    "        self.plot_stats(epochs)\n",
    "        print(f'Время на обучение: {total_time:.2f} секунд')\n",
    "\n",
    "    def plot_stats(self, epochs) -> None:\n",
    "        clear_output(wait=True)\n",
    "\n",
    "        fig, (ax1, ax2) = plt.subplots(2, figsize=(10, 10), constrained_layout=True)\n",
    "\n",
    "        ax1.plot(\n",
    "            range(1, len(self.history['train_loss']) + 1),\n",
    "            self.history['train_loss'],\n",
    "            label='Обучающая', marker='^'\n",
    "        )\n",
    "        ax1.plot(\n",
    "            range(1, len(self.history['test_loss']) + 1),\n",
    "            self.history['test_loss'],\n",
    "            label='Тестовая', marker='^'\n",
    "        )\n",
    "\n",
    "        ax1.set_xlim([0.5, epochs + 0.5])\n",
    "\n",
    "        ax1.set_xlabel('Эпоха')\n",
    "        ax1.set_ylabel('Ошибка')\n",
    "\n",
    "        ax1.legend()\n",
    "\n",
    "        ax2.plot(\n",
    "            range(1, len(self.history['train_accuracy']) + 1),\n",
    "            self.history['train_accuracy'],\n",
    "            label='Обучающая', marker='^'\n",
    "        )\n",
    "        ax2.plot(\n",
    "            range(1, len(self.history['test_accuracy']) + 1),\n",
    "            self.history['test_accuracy'],\n",
    "            label='Тестовая', marker='^'\n",
    "        )\n",
    "\n",
    "        ax2.set_xlim([0.5, epochs + 0.5])\n",
    "\n",
    "        ax2.set_xlabel('Эпоха')\n",
    "        ax2.set_ylabel('Доля правильных ответов')\n",
    "\n",
    "        ax2.legend()\n",
    "\n",
    "        plt.show()\n",
    "\n",
    "    def train_epoch(self) -> None:\n",
    "        self.model.train()\n",
    "\n",
    "        for images, labels in tqdm(self.train_loader, desc='Обучение'):\n",
    "            images, labels = images.to(self.device), labels.to(self.device)\n",
    "\n",
    "            self.optimizer.zero_grad()\n",
    "\n",
    "            outputs = self.model(images)\n",
    "\n",
    "            loss = self.loss_function(outputs, labels)\n",
    "\n",
    "            loss.backward()\n",
    "\n",
    "            self.optimizer.step()\n",
    "\n",
    "    @torch.no_grad()\n",
    "    def evaluate_subset(self, subset: str = 'train') -> None:\n",
    "        self.model.eval()\n",
    "\n",
    "        loss = 0.0\n",
    "        correct = 0\n",
    "\n",
    "        loader: DataLoader = self.train_loader if subset == 'train' else self.test_loader\n",
    "\n",
    "        for images, labels in tqdm(loader, desc=f'Оценка качества на {subset}'):\n",
    "            images, labels = images.to(self.device), labels.to(self.device)\n",
    "\n",
    "            outputs = self.model(images)\n",
    "\n",
    "            loss += self.loss_function(outputs, labels).item()\n",
    "\n",
    "            _, prediction = torch.max(outputs, 1)\n",
    "            correct += prediction.eq(labels.data.view_as(prediction)).cpu().sum()\n",
    "\n",
    "        self.history[f'{subset}_loss'].append(loss / len(loader))\n",
    "        self.history[f'{subset}_accuracy'].append(100. * correct / len(loader.dataset))"
   ]
  },
  {
   "cell_type": "markdown",
   "metadata": {},
   "source": [
    "## Задание 1\n",
    "\n",
    "Допишите класс сети `MLP`, который представляет собой полносвязную нейронную сеть.\n",
    "В вашей сети должно быть два скрытых слоя, каждый с 768 нейронов.\n",
    "\n",
    "Используйте `nn.Linear` и `nn.Flatten`."
   ]
  },
  {
   "cell_type": "code",
   "execution_count": null,
   "metadata": {
    "pycharm": {
     "name": "#%%\n"
    }
   },
   "outputs": [],
   "source": [
    "class MLP(BaseModel):\n",
    "\n",
    "    def __init__(self, *args, **kwargs):\n",
    "        super().__init__()\n",
    "\n",
    "        # На входе картинки 32 на 32 пикселя, 3 канала\n",
    "        # На выходе 10 классов\n",
    "\n",
    "        # Напишите составляющие нейронной сети по схеме из задания\n",
    "        raise NotImplementedError\n",
    "\n",
    "    def forward(self, x):\n",
    "        # Напишите функцию прохода вперед\n",
    "        raise NotImplementedError"
   ]
  },
  {
   "cell_type": "code",
   "execution_count": null,
   "metadata": {
    "pycharm": {
     "name": "#%%\n"
    }
   },
   "outputs": [],
   "source": [
    "# инициализируем обертку\n",
    "wrapper = Wrapper(model_class=MLP)"
   ]
  },
  {
   "cell_type": "code",
   "execution_count": null,
   "metadata": {
    "pycharm": {
     "name": "#%%\n"
    }
   },
   "outputs": [],
   "source": [
    "# запускаем обучение\n",
    "wrapper.run()"
   ]
  },
  {
   "cell_type": "code",
   "execution_count": null,
   "metadata": {
    "pycharm": {
     "name": "#%%\n"
    }
   },
   "outputs": [],
   "source": [
    "# тестируем то, как вы написали MLP и насколько хорошо удалось обучить вашу нейронную сеть\n",
    "TestWeek02.test01(wrapper)"
   ]
  },
  {
   "cell_type": "markdown",
   "metadata": {},
   "source": [
    "## Задание 2\n",
    "\n",
    "Допишите класс сети `CNN`, который представляет собой сверточную нейронную сеть.\n",
    "\n",
    "Ваша сеть должна иметь следующую структуру:\n",
    "\n",
    " - Сверточный слой с 32 фильтрами, ядром 3 на 3 и паддингом 1.\n",
    " - Активация ReLU\n",
    " - MaxPool с ядром 2 на 2\n",
    "\n",
    "\n",
    " - Сверточный слой с 64 фильтрами, ядром 3 на 3 и паддингом 1.\n",
    " - Активация ReLU\n",
    " - MaxPool с ядром 2 на 2\n",
    "\n",
    "\n",
    " - Сверточный слой с 128 фильтрами, ядром 3 на 3 и паддингом 1.\n",
    " - Активация ReLU\n",
    " - MaxPool с ядром 2 на 2\n",
    "\n",
    "\n",
    " - Полносвязный слой с 10 выходными нейронами"
   ]
  },
  {
   "cell_type": "code",
   "execution_count": null,
   "metadata": {
    "pycharm": {
     "name": "#%%\n"
    }
   },
   "outputs": [],
   "source": [
    "class CNN(BaseModel):\n",
    "\n",
    "    def __init__(self, *args, **kwargs):\n",
    "        super().__init__()\n",
    "\n",
    "        # На входе картинки 32 на 32 пикселя, 3 канала\n",
    "        # На выходе 10 классов\n",
    "\n",
    "        # Напишите составляющие нейронной сети по схеме из задания\n",
    "        raise NotImplementedError\n",
    "\n",
    "    def forward(self, x):\n",
    "        # Напишите функцию прохода вперед\n",
    "        raise NotImplementedError"
   ]
  },
  {
   "cell_type": "code",
   "execution_count": null,
   "metadata": {
    "pycharm": {
     "name": "#%%\n"
    }
   },
   "outputs": [],
   "source": [
    "# инициализируем обертку\n",
    "wrapper = Wrapper(model_class=CNN)"
   ]
  },
  {
   "cell_type": "code",
   "execution_count": null,
   "metadata": {
    "pycharm": {
     "name": "#%%\n"
    }
   },
   "outputs": [],
   "source": [
    "# запускаем обучение\n",
    "wrapper.run()"
   ]
  },
  {
   "cell_type": "code",
   "execution_count": null,
   "metadata": {
    "pycharm": {
     "name": "#%%\n"
    }
   },
   "outputs": [],
   "source": [
    "# тестируем то, как вы написали CNN и насколько хорошо удалось обучить вашу нейронную сеть\n",
    "TestWeek02.test02(wrapper)"
   ]
  },
  {
   "cell_type": "markdown",
   "metadata": {},
   "source": [
    "## Задание 3\n",
    "\n",
    "Допишите класс сети `CNNpro`, который представляет собой сверточную нейронную сеть.\n",
    "\n",
    "Ваша сеть должна иметь следующую структуру:\n",
    "\n",
    " - Сверточный слой с 32 фильтрами, ядром 3 на 3 и паддингом 1.\n",
    " - Активация ReLU\n",
    " - Батч-нормализация\n",
    " - MaxPool с ядром 2 на 2\n",
    " - Дропаут с вероятностью удаления 0.2\n",
    "\n",
    "\n",
    " - Сверточный слой с 64 фильтрами, ядром 3 на 3 и паддингом 1.\n",
    " - Активация ReLU\n",
    " - Батч-нормализация\n",
    " - MaxPool с ядром 2 на 2\n",
    " - Дропаут с вероятностью удаления 0.2\n",
    "\n",
    "\n",
    " - Сверточный слой с 128 фильтрами, ядром 3 на 3 и паддингом 1.\n",
    " - Активация ReLU\n",
    " - Батч-нормализация\n",
    " - MaxPool с ядром 2 на 2\n",
    " - Дропаут с вероятностью удаления 0.2\n",
    "\n",
    "\n",
    " - Полносвязный слой с 10 выходными нейронами"
   ]
  },
  {
   "cell_type": "code",
   "execution_count": null,
   "metadata": {
    "pycharm": {
     "name": "#%%\n"
    }
   },
   "outputs": [],
   "source": [
    "class CNNpro(BaseModel):\n",
    "\n",
    "    def __init__(self, *args, **kwargs):\n",
    "        super().__init__()\n",
    "\n",
    "        # На входе картинки 32 на 32 пикселя, 3 канала\n",
    "        # На выходе 10 классов\n",
    "\n",
    "        # Напишите составляющие нейронной сети по схеме из задания\n",
    "        raise NotImplementedError\n",
    "\n",
    "    def forward(self, x):\n",
    "        # Напишите функцию прохода вперед\n",
    "        raise NotImplementedError"
   ]
  },
  {
   "cell_type": "code",
   "execution_count": null,
   "metadata": {
    "pycharm": {
     "name": "#%%\n"
    }
   },
   "outputs": [],
   "source": [
    "# инициализируем обертку\n",
    "wrapper = Wrapper(model_class=CNNpro)"
   ]
  },
  {
   "cell_type": "code",
   "execution_count": null,
   "metadata": {
    "pycharm": {
     "name": "#%%\n"
    }
   },
   "outputs": [],
   "source": [
    "# запускаем обучение\n",
    "wrapper.run()"
   ]
  },
  {
   "cell_type": "code",
   "execution_count": null,
   "metadata": {
    "pycharm": {
     "name": "#%%\n"
    }
   },
   "outputs": [],
   "source": [
    "# тестируем то, как вы написали CNNpro и насколько хорошо удалось обучить вашу нейронную сеть\n",
    "TestWeek02.test03(wrapper)"
   ]
  },
  {
   "cell_type": "markdown",
   "metadata": {},
   "source": [
    "## Задание 4\n",
    "\n",
    "Добавим аугментаций!\n",
    "\n",
    "Попробуйте использовать какие-нибудь аугментации из списка:\n",
    "\n",
    " - [RandomHorizontalFlip](https://pytorch.org/vision/stable/transforms.html#torchvision.transforms.RandomHorizontalFlip)\n",
    " - [RandomAffine](https://pytorch.org/vision/stable/transforms.html#torchvision.transforms.RandomAffine)\n",
    " - [ColorJitter](https://pytorch.org/vision/stable/transforms.html#torchvision.transforms.ColorJitter)\n",
    " - [RandomGrayscale](https://pytorch.org/vision/stable/transforms.html#torchvision.transforms.RandomGrayscale)\n",
    " - [RandomCrop](https://pytorch.org/vision/stable/transforms.html#torchvision.transforms.RandomCrop)\n",
    "\n",
    "Или используйте любую другую аугментацию по вашему вкусу."
   ]
  },
  {
   "cell_type": "code",
   "execution_count": null,
   "metadata": {
    "pycharm": {
     "name": "#%%\n"
    }
   },
   "outputs": [],
   "source": [
    "custom_transform = t.Compose(\n",
    "    [\n",
    "        # добавьте сюда аугментации из списка выше\n",
    "        t.ToTensor(),\n",
    "        t.Normalize((0.5, 0.5, 0.5), (0.5, 0.5, 0.5))\n",
    "    ]\n",
    ")"
   ]
  },
  {
   "cell_type": "code",
   "execution_count": null,
   "metadata": {
    "pycharm": {
     "name": "#%%\n"
    }
   },
   "outputs": [],
   "source": [
    "# инициализируем обертку\n",
    "wrapper = Wrapper(model_class=CNNpro, transform=custom_transform)"
   ]
  },
  {
   "cell_type": "code",
   "execution_count": null,
   "metadata": {
    "pycharm": {
     "name": "#%%\n"
    }
   },
   "outputs": [],
   "source": [
    "# запускаем обучение\n",
    "wrapper.run()"
   ]
  },
  {
   "cell_type": "code",
   "execution_count": null,
   "metadata": {
    "pycharm": {
     "name": "#%%\n"
    }
   },
   "outputs": [],
   "source": [
    "# тестируем ваши аугментации\n",
    "TestWeek02.test04(wrapper)"
   ]
  }
 ],
 "metadata": {
  "kernelspec": {
   "display_name": "Python 3 (ipykernel)",
   "language": "python",
   "name": "python3"
  },
  "language_info": {
   "codemirror_mode": {
    "name": "ipython",
    "version": 3
   },
   "file_extension": ".py",
   "mimetype": "text/x-python",
   "name": "python",
   "nbconvert_exporter": "python",
   "pygments_lexer": "ipython3",
   "version": "3.9.6"
  }
 },
 "nbformat": 4,
 "nbformat_minor": 1
}
